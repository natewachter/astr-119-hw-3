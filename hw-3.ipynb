{
 "cells": [
  {
   "cell_type": "code",
   "execution_count": null,
   "metadata": {},
   "outputs": [],
   "source": [
    "%matplotlib inline\n",
    "import numpy as np\n",
    "import matplotlib.pyplot as plt"
   ]
  },
  {
   "cell_type": "code",
   "execution_count": null,
   "metadata": {},
   "outputs": [],
   "source": [
    "n = 1000   # create integer, number of increments\n",
    "inc_size = 2 * np.pi / (n-1)   # create float, increment size\n",
    "x = np.arange(0,2*np.pi,inc_size)   # create array from 0 to 2pi with n increments"
   ]
  },
  {
   "cell_type": "code",
   "execution_count": null,
   "metadata": {},
   "outputs": [],
   "source": [
    "# set the three functions to be plotted\n",
    "y1 = 5.5 * np.cos(2*x) + 5.5\n",
    "y2 = 0.02 * np.exp(x)\n",
    "y3 = (0.25 * np.square(x)) + (0.1 * np.sin(10*x))\n",
    "\n",
    "# add each function to the plot\n",
    "plt.plot(x,y1,label='5.5cos(2x)+5.5')\n",
    "plt.plot(x,y2,label='0.02 * e^x')\n",
    "plt.plot(x,y3,label='0.25 * x^2 + 0.1sin(10x)')\n",
    "\n",
    "# label axes and set axis limits\n",
    "plt.xlabel('Time in ASTR 119')\n",
    "plt.ylabel('Measures of Awesomeness')\n",
    "plt.xlim(0,2*np.pi)\n",
    "plt.ylim(-1,10)\n",
    "\n",
    "# Display the plot\n",
    "plt.show()"
   ]
  },
  {
   "cell_type": "code",
   "execution_count": null,
   "metadata": {},
   "outputs": [],
   "source": []
  }
 ],
 "metadata": {
  "kernelspec": {
   "display_name": "Python 3",
   "language": "python",
   "name": "python3"
  },
  "language_info": {
   "codemirror_mode": {
    "name": "ipython",
    "version": 3
   },
   "file_extension": ".py",
   "mimetype": "text/x-python",
   "name": "python",
   "nbconvert_exporter": "python",
   "pygments_lexer": "ipython3",
   "version": "3.8.6"
  }
 },
 "nbformat": 4,
 "nbformat_minor": 4
}
